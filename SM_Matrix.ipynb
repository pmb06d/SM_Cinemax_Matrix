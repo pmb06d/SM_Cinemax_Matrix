{
  "nbformat": 4,
  "nbformat_minor": 0,
  "metadata": {
    "colab": {
      "name": "SM Matrix.ipynb",
      "version": "0.3.2",
      "provenance": [],
      "collapsed_sections": [],
      "include_colab_link": true
    },
    "kernelspec": {
      "name": "python3",
      "display_name": "Python 3"
    }
  },
  "cells": [
    {
      "cell_type": "markdown",
      "metadata": {
        "id": "view-in-github",
        "colab_type": "text"
      },
      "source": [
        "<a href=\"https://colab.research.google.com/github/pmb06d/SM_Cinemax_Matrix/blob/master/SM_Matrix.ipynb\" target=\"_parent\"><img src=\"https://colab.research.google.com/assets/colab-badge.svg\" alt=\"Open In Colab\"/></a>"
      ]
    },
    {
      "cell_type": "markdown",
      "metadata": {
        "id": "CHtPx6IjgxSo",
        "colab_type": "text"
      },
      "source": [
        "# Authenticate the Google SDK and bring in the data"
      ]
    },
    {
      "cell_type": "code",
      "metadata": {
        "id": "R-rZeAqZxgst",
        "colab_type": "code",
        "colab": {}
      },
      "source": [
        "!pip install -U -q PyDrive\n",
        "\n",
        "from pydrive.auth import GoogleAuth\n",
        "from pydrive.drive import GoogleDrive\n",
        "from google.colab import auth\n",
        "from oauth2client.client import GoogleCredentials\n",
        "\n",
        "# Authenticate and create the PyDrive client.\n",
        "auth.authenticate_user()\n",
        "gauth = GoogleAuth()\n",
        "gauth.credentials = GoogleCredentials.get_application_default()\n",
        "drive = GoogleDrive(gauth)"
      ],
      "execution_count": 0,
      "outputs": []
    },
    {
      "cell_type": "code",
      "metadata": {
        "id": "Ts6-yEslxN4i",
        "colab_type": "code",
        "colab": {}
      },
      "source": [
        "#!pip install --upgrade -q gspread\n",
        "\n",
        "import pandas as pd\n",
        "\n",
        "# This package can read google sheets\n",
        "import gspread\n",
        "\n",
        "\n",
        "gc = gspread.authorize(GoogleCredentials.get_application_default())\n",
        "sh = gc.open_by_url('https://docs.google.com/spreadsheets/d/1LgVqtPS-xlU_w3EPHlzjc53B78QS321owqJe2Y1qZSQ/edit?ts=5d4357f8#gid=0')\n",
        "\n",
        "# july 'https://docs.google.com/spreadsheets/d/1LgVqtPS-xlU_w3EPHlzjc53B78QS321owqJe2Y1qZSQ/edit?ts=5d4357f8#gid=0'\n",
        "\n",
        "# aug 'https://docs.google.com/spreadsheets/d/1d1vH8RLG6sycVh-2E1EJeYWGvc9VsIEcn8LUUsbtpsQ/edit?ts=5d4357ae#gid=619122347'"
      ],
      "execution_count": 0,
      "outputs": []
    },
    {
      "cell_type": "code",
      "metadata": {
        "id": "Rz3hEGl7zUWC",
        "colab_type": "code",
        "outputId": "0cad6846-fc5d-43ae-abd6-08ff487fe262",
        "colab": {
          "base_uri": "https://localhost:8080/",
          "height": 34
        }
      },
      "source": [
        "import re\n",
        "\n",
        "def find_matrix(test_list):\n",
        "  temp = []\n",
        "  for i in test_list:\n",
        "    try:\n",
        "      temp.append(re.findall(\"\\'(.+Matrix)\\'\",str(i))[0])\n",
        "    except:\n",
        "      continue\n",
        "  return(temp[0])\n",
        "\n",
        "find_matrix(sh.worksheets())"
      ],
      "execution_count": 0,
      "outputs": [
        {
          "output_type": "execute_result",
          "data": {
            "text/plain": [
              "'July SM Matrix'"
            ]
          },
          "metadata": {
            "tags": []
          },
          "execution_count": 3
        }
      ]
    },
    {
      "cell_type": "code",
      "metadata": {
        "id": "ncUUDycex2_k",
        "colab_type": "code",
        "outputId": "c31f472f-1990-45f7-a56d-3719e9892d07",
        "colab": {
          "base_uri": "https://localhost:8080/",
          "height": 34
        }
      },
      "source": [
        "sh.worksheet(find_matrix(sh.worksheets()))"
      ],
      "execution_count": 0,
      "outputs": [
        {
          "output_type": "execute_result",
          "data": {
            "text/plain": [
              "<Worksheet 'July SM Matrix' id:0>"
            ]
          },
          "metadata": {
            "tags": []
          },
          "execution_count": 4
        }
      ]
    },
    {
      "cell_type": "code",
      "metadata": {
        "id": "c8pEgyZT6GKv",
        "colab_type": "code",
        "outputId": "5932a7d9-fee0-4ac0-cc0a-62432dcd148f",
        "colab": {
          "base_uri": "https://localhost:8080/",
          "height": 394
        }
      },
      "source": [
        "import numpy as np\n",
        "\n",
        "# Put into a dataframe\n",
        "matrix = pd.DataFrame(sh.worksheet(find_matrix(sh.worksheets())).get_all_values())\n",
        "del matrix.index.name\n",
        "matrix = matrix.replace('NA',np.nan)\n",
        "\n",
        "matrix = matrix.replace('', np.nan).dropna(how='all').dropna(axis=1, thresh =2)\n",
        "#matrix = matrix.iloc[0:len(matrix)-2,:]\n",
        "\n",
        "matrix.head()"
      ],
      "execution_count": 0,
      "outputs": [
        {
          "output_type": "execute_result",
          "data": {
            "text/html": [
              "<div>\n",
              "<style scoped>\n",
              "    .dataframe tbody tr th:only-of-type {\n",
              "        vertical-align: middle;\n",
              "    }\n",
              "\n",
              "    .dataframe tbody tr th {\n",
              "        vertical-align: top;\n",
              "    }\n",
              "\n",
              "    .dataframe thead th {\n",
              "        text-align: right;\n",
              "    }\n",
              "</style>\n",
              "<table border=\"1\" class=\"dataframe\">\n",
              "  <thead>\n",
              "    <tr style=\"text-align: right;\">\n",
              "      <th></th>\n",
              "      <th>1</th>\n",
              "      <th>2</th>\n",
              "      <th>3</th>\n",
              "      <th>4</th>\n",
              "      <th>5</th>\n",
              "      <th>6</th>\n",
              "      <th>7</th>\n",
              "      <th>8</th>\n",
              "      <th>9</th>\n",
              "      <th>10</th>\n",
              "      <th>14</th>\n",
              "      <th>15</th>\n",
              "      <th>16</th>\n",
              "      <th>17</th>\n",
              "    </tr>\n",
              "  </thead>\n",
              "  <tbody>\n",
              "    <tr>\n",
              "      <th>1</th>\n",
              "      <td>COLOR TAG GUIDE</td>\n",
              "      <td>FECHA DE PUBLICACIÓN</td>\n",
              "      <td>PLATAFORMA</td>\n",
              "      <td>NaN</td>\n",
              "      <td>OBJETIVO</td>\n",
              "      <td>BUDGET</td>\n",
              "      <td>NaN</td>\n",
              "      <td>BOOST DATE</td>\n",
              "      <td>TÍTULO</td>\n",
              "      <td>TIPO DE CONTENIDO</td>\n",
              "      <td>COPY</td>\n",
              "      <td>NaN</td>\n",
              "      <td>NOTES</td>\n",
              "      <td>BITLY (LAT)</td>\n",
              "    </tr>\n",
              "    <tr>\n",
              "      <th>3</th>\n",
              "      <td>NaN</td>\n",
              "      <td>NaN</td>\n",
              "      <td>FACEBOOK</td>\n",
              "      <td>INSTAGRAM</td>\n",
              "      <td>NaN</td>\n",
              "      <td>FACEBOOK</td>\n",
              "      <td>INSTAGRAM</td>\n",
              "      <td>NaN</td>\n",
              "      <td>NaN</td>\n",
              "      <td>NaN</td>\n",
              "      <td>FACEBOOK</td>\n",
              "      <td>INSTAGRAM</td>\n",
              "      <td>NaN</td>\n",
              "      <td>URL</td>\n",
              "    </tr>\n",
              "    <tr>\n",
              "      <th>4</th>\n",
              "      <td>NaN</td>\n",
              "      <td>1 Jul</td>\n",
              "      <td>Facebook</td>\n",
              "      <td>Instagram</td>\n",
              "      <td>Engagement</td>\n",
              "      <td>$200</td>\n",
              "      <td>NaN</td>\n",
              "      <td>SAME DAY</td>\n",
              "      <td>LEGO BATMAN</td>\n",
              "      <td>COPA AMÉRICA (gif)</td>\n",
              "      <td>Quando inesperadamente, esta temporada de fute...</td>\n",
              "      <td>Quando inesperadamente, esta temporada de fute...</td>\n",
              "      <td>NaN</td>\n",
              "      <td>NaN</td>\n",
              "    </tr>\n",
              "    <tr>\n",
              "      <th>5</th>\n",
              "      <td>NaN</td>\n",
              "      <td>NaN</td>\n",
              "      <td>NaN</td>\n",
              "      <td>NaN</td>\n",
              "      <td>Video Views</td>\n",
              "      <td>$300</td>\n",
              "      <td>NaN</td>\n",
              "      <td>SAME DAY</td>\n",
              "      <td>MATRIX</td>\n",
              "      <td>Teaser</td>\n",
              "      <td>Há vinte anos, descobrimos que toda nossa real...</td>\n",
              "      <td>Há vinte anos, descobrimos que toda nossa real...</td>\n",
              "      <td>NaN</td>\n",
              "      <td>NaN</td>\n",
              "    </tr>\n",
              "    <tr>\n",
              "      <th>6</th>\n",
              "      <td>NaN</td>\n",
              "      <td>NaN</td>\n",
              "      <td>Facebook</td>\n",
              "      <td>Instagram</td>\n",
              "      <td>Engagement</td>\n",
              "      <td>$200</td>\n",
              "      <td>NaN</td>\n",
              "      <td>SAME DAY</td>\n",
              "      <td>LEGO BATMAN</td>\n",
              "      <td>COPA AMÉRICA (gif)</td>\n",
              "      <td>Cuando inesperadamente, esta temporada de fútb...</td>\n",
              "      <td>Cuando inesperadamente, esta temporada de fútb...</td>\n",
              "      <td>NaN</td>\n",
              "      <td>bit.ly/LegoBatmanenCinemaxLA</td>\n",
              "    </tr>\n",
              "  </tbody>\n",
              "</table>\n",
              "</div>"
            ],
            "text/plain": [
              "                1                      2   ...     16                            17\n",
              "1  COLOR TAG GUIDE  FECHA DE PUBLICACIÓN   ...  NOTES                   BITLY (LAT)\n",
              "3              NaN                    NaN  ...    NaN                           URL\n",
              "4              NaN                  1 Jul  ...    NaN                           NaN\n",
              "5              NaN                    NaN  ...    NaN                           NaN\n",
              "6              NaN                    NaN  ...    NaN  bit.ly/LegoBatmanenCinemaxLA\n",
              "\n",
              "[5 rows x 14 columns]"
            ]
          },
          "metadata": {
            "tags": []
          },
          "execution_count": 5
        }
      ]
    },
    {
      "cell_type": "code",
      "metadata": {
        "id": "xw8LkMp6BArL",
        "colab_type": "code",
        "colab": {}
      },
      "source": [
        "def replicate_down(raw_list):\n",
        "\n",
        "  column_names = []\n",
        "\n",
        "  for i in range(len(raw_list)):\n",
        "    if str(raw_list[i]) == 'nan':\n",
        "      if str(raw_list[i-1]) == 'nan' and i != 0:\n",
        "        column_names.append(column_names[-1])\n",
        "      else:\n",
        "        column_names.append(raw_list[i-1])\n",
        "    else:\n",
        "      column_names.append(raw_list[i])\n",
        "\n",
        "  return(column_names)"
      ],
      "execution_count": 0,
      "outputs": []
    },
    {
      "cell_type": "code",
      "metadata": {
        "id": "Oi_9nsGoVF4L",
        "colab_type": "code",
        "outputId": "295b58ad-00ef-4571-989a-0ca62a9b175c",
        "colab": {
          "base_uri": "https://localhost:8080/",
          "height": 255
        }
      },
      "source": [
        "index_df = pd.DataFrame(list(zip(list(matrix.iloc[0,:]),list(matrix.iloc[1,:])))).dropna(how='all')\n",
        "index_df[0] = replicate_down(list(index_df[0]))\n",
        "index = list(index_df.itertuples(index=False, name=None))\n",
        "\n",
        "new_index = []\n",
        "for tup in index:\n",
        "  if str(tup[1]) == 'nan':\n",
        "    new_index.append(tup[0])\n",
        "  else:\n",
        "    new_index.append(tup[0]+' - '+tup[1])\n",
        "\n",
        "index_df['Label'] = new_index\n",
        "new_index"
      ],
      "execution_count": 0,
      "outputs": [
        {
          "output_type": "execute_result",
          "data": {
            "text/plain": [
              "['COLOR TAG GUIDE',\n",
              " 'FECHA DE PUBLICACIÓN ',\n",
              " 'PLATAFORMA - FACEBOOK',\n",
              " 'PLATAFORMA - INSTAGRAM',\n",
              " 'OBJETIVO',\n",
              " 'BUDGET - FACEBOOK',\n",
              " 'BUDGET - INSTAGRAM',\n",
              " 'BOOST DATE',\n",
              " 'TÍTULO ',\n",
              " 'TIPO DE CONTENIDO',\n",
              " 'COPY - FACEBOOK',\n",
              " 'COPY - INSTAGRAM',\n",
              " 'NOTES',\n",
              " 'BITLY (LAT) - URL']"
            ]
          },
          "metadata": {
            "tags": []
          },
          "execution_count": 7
        }
      ]
    },
    {
      "cell_type": "code",
      "metadata": {
        "id": "j5dy9V65aNm0",
        "colab_type": "code",
        "outputId": "8e398f8d-8ae1-4d6a-d485-4f3d216b6f15",
        "colab": {
          "base_uri": "https://localhost:8080/",
          "height": 483
        }
      },
      "source": [
        "index_df"
      ],
      "execution_count": 0,
      "outputs": [
        {
          "output_type": "execute_result",
          "data": {
            "text/html": [
              "<div>\n",
              "<style scoped>\n",
              "    .dataframe tbody tr th:only-of-type {\n",
              "        vertical-align: middle;\n",
              "    }\n",
              "\n",
              "    .dataframe tbody tr th {\n",
              "        vertical-align: top;\n",
              "    }\n",
              "\n",
              "    .dataframe thead th {\n",
              "        text-align: right;\n",
              "    }\n",
              "</style>\n",
              "<table border=\"1\" class=\"dataframe\">\n",
              "  <thead>\n",
              "    <tr style=\"text-align: right;\">\n",
              "      <th></th>\n",
              "      <th>0</th>\n",
              "      <th>1</th>\n",
              "      <th>Label</th>\n",
              "    </tr>\n",
              "  </thead>\n",
              "  <tbody>\n",
              "    <tr>\n",
              "      <th>0</th>\n",
              "      <td>COLOR TAG GUIDE</td>\n",
              "      <td>NaN</td>\n",
              "      <td>COLOR TAG GUIDE</td>\n",
              "    </tr>\n",
              "    <tr>\n",
              "      <th>1</th>\n",
              "      <td>FECHA DE PUBLICACIÓN</td>\n",
              "      <td>NaN</td>\n",
              "      <td>FECHA DE PUBLICACIÓN</td>\n",
              "    </tr>\n",
              "    <tr>\n",
              "      <th>2</th>\n",
              "      <td>PLATAFORMA</td>\n",
              "      <td>FACEBOOK</td>\n",
              "      <td>PLATAFORMA - FACEBOOK</td>\n",
              "    </tr>\n",
              "    <tr>\n",
              "      <th>3</th>\n",
              "      <td>PLATAFORMA</td>\n",
              "      <td>INSTAGRAM</td>\n",
              "      <td>PLATAFORMA - INSTAGRAM</td>\n",
              "    </tr>\n",
              "    <tr>\n",
              "      <th>4</th>\n",
              "      <td>OBJETIVO</td>\n",
              "      <td>NaN</td>\n",
              "      <td>OBJETIVO</td>\n",
              "    </tr>\n",
              "    <tr>\n",
              "      <th>5</th>\n",
              "      <td>BUDGET</td>\n",
              "      <td>FACEBOOK</td>\n",
              "      <td>BUDGET - FACEBOOK</td>\n",
              "    </tr>\n",
              "    <tr>\n",
              "      <th>6</th>\n",
              "      <td>BUDGET</td>\n",
              "      <td>INSTAGRAM</td>\n",
              "      <td>BUDGET - INSTAGRAM</td>\n",
              "    </tr>\n",
              "    <tr>\n",
              "      <th>7</th>\n",
              "      <td>BOOST DATE</td>\n",
              "      <td>NaN</td>\n",
              "      <td>BOOST DATE</td>\n",
              "    </tr>\n",
              "    <tr>\n",
              "      <th>8</th>\n",
              "      <td>TÍTULO</td>\n",
              "      <td>NaN</td>\n",
              "      <td>TÍTULO</td>\n",
              "    </tr>\n",
              "    <tr>\n",
              "      <th>9</th>\n",
              "      <td>TIPO DE CONTENIDO</td>\n",
              "      <td>NaN</td>\n",
              "      <td>TIPO DE CONTENIDO</td>\n",
              "    </tr>\n",
              "    <tr>\n",
              "      <th>10</th>\n",
              "      <td>COPY</td>\n",
              "      <td>FACEBOOK</td>\n",
              "      <td>COPY - FACEBOOK</td>\n",
              "    </tr>\n",
              "    <tr>\n",
              "      <th>11</th>\n",
              "      <td>COPY</td>\n",
              "      <td>INSTAGRAM</td>\n",
              "      <td>COPY - INSTAGRAM</td>\n",
              "    </tr>\n",
              "    <tr>\n",
              "      <th>12</th>\n",
              "      <td>NOTES</td>\n",
              "      <td>NaN</td>\n",
              "      <td>NOTES</td>\n",
              "    </tr>\n",
              "    <tr>\n",
              "      <th>13</th>\n",
              "      <td>BITLY (LAT)</td>\n",
              "      <td>URL</td>\n",
              "      <td>BITLY (LAT) - URL</td>\n",
              "    </tr>\n",
              "  </tbody>\n",
              "</table>\n",
              "</div>"
            ],
            "text/plain": [
              "                        0          1                   Label\n",
              "0         COLOR TAG GUIDE        NaN         COLOR TAG GUIDE\n",
              "1   FECHA DE PUBLICACIÓN         NaN   FECHA DE PUBLICACIÓN \n",
              "2              PLATAFORMA   FACEBOOK   PLATAFORMA - FACEBOOK\n",
              "3              PLATAFORMA  INSTAGRAM  PLATAFORMA - INSTAGRAM\n",
              "4                OBJETIVO        NaN                OBJETIVO\n",
              "5                  BUDGET   FACEBOOK       BUDGET - FACEBOOK\n",
              "6                  BUDGET  INSTAGRAM      BUDGET - INSTAGRAM\n",
              "7              BOOST DATE        NaN              BOOST DATE\n",
              "8                 TÍTULO         NaN                 TÍTULO \n",
              "9       TIPO DE CONTENIDO        NaN       TIPO DE CONTENIDO\n",
              "10                   COPY   FACEBOOK         COPY - FACEBOOK\n",
              "11                   COPY  INSTAGRAM        COPY - INSTAGRAM\n",
              "12                  NOTES        NaN                   NOTES\n",
              "13            BITLY (LAT)        URL       BITLY (LAT) - URL"
            ]
          },
          "metadata": {
            "tags": []
          },
          "execution_count": 8
        }
      ]
    },
    {
      "cell_type": "code",
      "metadata": {
        "id": "rR58aGXNoOy6",
        "colab_type": "code",
        "outputId": "5ee52deb-dd17-4f5c-dd90-660b8c60bddd",
        "colab": {
          "base_uri": "https://localhost:8080/",
          "height": 255
        }
      },
      "source": [
        "label_dict = dict(zip(index_df['Label'],index_df[0]))\n",
        "label_dict"
      ],
      "execution_count": 0,
      "outputs": [
        {
          "output_type": "execute_result",
          "data": {
            "text/plain": [
              "{'BITLY (LAT) - URL': 'BITLY (LAT)',\n",
              " 'BOOST DATE': 'BOOST DATE',\n",
              " 'BUDGET - FACEBOOK': 'BUDGET',\n",
              " 'BUDGET - INSTAGRAM': 'BUDGET',\n",
              " 'COLOR TAG GUIDE': 'COLOR TAG GUIDE',\n",
              " 'COPY - FACEBOOK': 'COPY',\n",
              " 'COPY - INSTAGRAM': 'COPY',\n",
              " 'FECHA DE PUBLICACIÓN ': 'FECHA DE PUBLICACIÓN ',\n",
              " 'NOTES': 'NOTES',\n",
              " 'OBJETIVO': 'OBJETIVO',\n",
              " 'PLATAFORMA - FACEBOOK': 'PLATAFORMA',\n",
              " 'PLATAFORMA - INSTAGRAM': 'PLATAFORMA',\n",
              " 'TIPO DE CONTENIDO': 'TIPO DE CONTENIDO',\n",
              " 'TÍTULO ': 'TÍTULO '}"
            ]
          },
          "metadata": {
            "tags": []
          },
          "execution_count": 9
        }
      ]
    },
    {
      "cell_type": "code",
      "metadata": {
        "id": "rBIBSfsxkgXj",
        "colab_type": "code",
        "outputId": "dbffe605-029f-4010-8dd1-1da07a4f12f9",
        "colab": {
          "base_uri": "https://localhost:8080/",
          "height": 34
        }
      },
      "source": [
        "platforms = list(set(replicate_down(list(matrix.iloc[1,:]))))\n",
        "\n",
        "def clean_list(list_of_stuff, list_to_remove):\n",
        "  for i in list_to_remove:\n",
        "    try:\n",
        "      list_of_stuff.remove(i)\n",
        "    except:\n",
        "      continue\n",
        "  return(list_of_stuff)\n",
        "\n",
        "platforms = clean_list(platforms, ['VISITS','URL',np.nan])\n",
        "\n",
        "platforms"
      ],
      "execution_count": 0,
      "outputs": [
        {
          "output_type": "execute_result",
          "data": {
            "text/plain": [
              "['FACEBOOK', 'INSTAGRAM']"
            ]
          },
          "metadata": {
            "tags": []
          },
          "execution_count": 10
        }
      ]
    },
    {
      "cell_type": "code",
      "metadata": {
        "id": "y25ASMkwpFPs",
        "colab_type": "code",
        "outputId": "ca938181-af96-4ac0-de5a-4332ec5c54e6",
        "colab": {
          "base_uri": "https://localhost:8080/",
          "height": 119
        }
      },
      "source": [
        "df_list = []\n",
        "\n",
        "for i in platforms:\n",
        "  df_list.append(list())\n",
        "\n",
        "p_labels = []\n",
        "for i in platforms:\n",
        "  p_labels.append(list(index_df.loc[index_df[1]==i,'Label']))\n",
        "\n",
        "g_labels = list(index_df.loc[index_df[1].isna(),'Label'])\n",
        "g_labels = g_labels[1:]\n",
        "\n",
        "b_labels = list(index_df.loc[index_df[0]=='BUDGET','Label'])\n",
        "\n",
        "#platform: p_labels\n",
        "#general: g_labels\n",
        "#budget columns: b_labels\n",
        "\n",
        "g_labels"
      ],
      "execution_count": 0,
      "outputs": [
        {
          "output_type": "execute_result",
          "data": {
            "text/plain": [
              "['FECHA DE PUBLICACIÓN ',\n",
              " 'OBJETIVO',\n",
              " 'BOOST DATE',\n",
              " 'TÍTULO ',\n",
              " 'TIPO DE CONTENIDO',\n",
              " 'NOTES']"
            ]
          },
          "metadata": {
            "tags": []
          },
          "execution_count": 11
        }
      ]
    },
    {
      "cell_type": "code",
      "metadata": {
        "id": "ImC1hHPyMIa9",
        "colab_type": "code",
        "outputId": "0084fded-5a68-4e93-a050-62358861f7fa",
        "colab": {
          "base_uri": "https://localhost:8080/",
          "height": 51
        }
      },
      "source": [
        "p_labels"
      ],
      "execution_count": 0,
      "outputs": [
        {
          "output_type": "execute_result",
          "data": {
            "text/plain": [
              "[['PLATAFORMA - FACEBOOK', 'BUDGET - FACEBOOK', 'COPY - FACEBOOK'],\n",
              " ['PLATAFORMA - INSTAGRAM', 'BUDGET - INSTAGRAM', 'COPY - INSTAGRAM']]"
            ]
          },
          "metadata": {
            "tags": []
          },
          "execution_count": 12
        }
      ]
    },
    {
      "cell_type": "code",
      "metadata": {
        "id": "866OeUHZniqf",
        "colab_type": "code",
        "outputId": "c31b9fe0-d8b1-48f0-b86a-44272f717a99",
        "colab": {
          "base_uri": "https://localhost:8080/",
          "height": 34
        }
      },
      "source": [
        "b_labels"
      ],
      "execution_count": 0,
      "outputs": [
        {
          "output_type": "execute_result",
          "data": {
            "text/plain": [
              "['BUDGET - FACEBOOK', 'BUDGET - INSTAGRAM']"
            ]
          },
          "metadata": {
            "tags": []
          },
          "execution_count": 13
        }
      ]
    },
    {
      "cell_type": "code",
      "metadata": {
        "id": "7AXcZO1WVkWh",
        "colab_type": "code",
        "outputId": "b5527663-f316-45dd-bf6c-b1781a958dc4",
        "colab": {
          "base_uri": "https://localhost:8080/",
          "height": 391
        }
      },
      "source": [
        "matrix2 = matrix.iloc[2:len(matrix),0:len(new_index)]\n",
        "matrix2.columns = new_index\n",
        "matrix2 = matrix2.iloc[:,1:len(list(matrix2))]\n",
        "\n",
        "matrix2.reset_index(drop=True, inplace=True)\n",
        "\n",
        "matrix2.tail()"
      ],
      "execution_count": 0,
      "outputs": [
        {
          "output_type": "execute_result",
          "data": {
            "text/html": [
              "<div>\n",
              "<style scoped>\n",
              "    .dataframe tbody tr th:only-of-type {\n",
              "        vertical-align: middle;\n",
              "    }\n",
              "\n",
              "    .dataframe tbody tr th {\n",
              "        vertical-align: top;\n",
              "    }\n",
              "\n",
              "    .dataframe thead th {\n",
              "        text-align: right;\n",
              "    }\n",
              "</style>\n",
              "<table border=\"1\" class=\"dataframe\">\n",
              "  <thead>\n",
              "    <tr style=\"text-align: right;\">\n",
              "      <th></th>\n",
              "      <th>FECHA DE PUBLICACIÓN</th>\n",
              "      <th>PLATAFORMA - FACEBOOK</th>\n",
              "      <th>PLATAFORMA - INSTAGRAM</th>\n",
              "      <th>OBJETIVO</th>\n",
              "      <th>BUDGET - FACEBOOK</th>\n",
              "      <th>BUDGET - INSTAGRAM</th>\n",
              "      <th>BOOST DATE</th>\n",
              "      <th>TÍTULO</th>\n",
              "      <th>TIPO DE CONTENIDO</th>\n",
              "      <th>COPY - FACEBOOK</th>\n",
              "      <th>COPY - INSTAGRAM</th>\n",
              "      <th>NOTES</th>\n",
              "      <th>BITLY (LAT) - URL</th>\n",
              "    </tr>\n",
              "  </thead>\n",
              "  <tbody>\n",
              "    <tr>\n",
              "      <th>96</th>\n",
              "      <td>NaN</td>\n",
              "      <td>Facebook</td>\n",
              "      <td>Instagram</td>\n",
              "      <td>Engagement</td>\n",
              "      <td>NaN</td>\n",
              "      <td>NaN</td>\n",
              "      <td>SAME DAY</td>\n",
              "      <td>N/A</td>\n",
              "      <td>INSTRUCCIONES PARA</td>\n",
              "      <td>NaN</td>\n",
              "      <td>NaN</td>\n",
              "      <td>NaN</td>\n",
              "      <td>NaN</td>\n",
              "    </tr>\n",
              "    <tr>\n",
              "      <th>97</th>\n",
              "      <td>30 Jul</td>\n",
              "      <td>Facebook</td>\n",
              "      <td>Instagram</td>\n",
              "      <td>Engagement</td>\n",
              "      <td>$200</td>\n",
              "      <td>NaN</td>\n",
              "      <td>SAME DAY</td>\n",
              "      <td>SULLY</td>\n",
              "      <td>DETRÁS DE : THOM HANKS</td>\n",
              "      <td>Você sabia que existe um asteróide com o nome ...</td>\n",
              "      <td>NaN</td>\n",
              "      <td>NaN</td>\n",
              "      <td>NaN</td>\n",
              "    </tr>\n",
              "    <tr>\n",
              "      <th>98</th>\n",
              "      <td>NaN</td>\n",
              "      <td>Facebook</td>\n",
              "      <td>Instagram</td>\n",
              "      <td>Engagement</td>\n",
              "      <td>$200</td>\n",
              "      <td>NaN</td>\n",
              "      <td>SAME DAY</td>\n",
              "      <td>SULLY</td>\n",
              "      <td>DETRÁS DE : THOM HANKS</td>\n",
              "      <td>¿Sabías que existe un asteroide con el nombre ...</td>\n",
              "      <td>NaN</td>\n",
              "      <td>NaN</td>\n",
              "      <td>NaN</td>\n",
              "    </tr>\n",
              "    <tr>\n",
              "      <th>99</th>\n",
              "      <td>NaN</td>\n",
              "      <td>NaN</td>\n",
              "      <td>NaN</td>\n",
              "      <td>Total Budget LAT:</td>\n",
              "      <td>#REF!</td>\n",
              "      <td>#REF!</td>\n",
              "      <td>NaN</td>\n",
              "      <td>OVERSPEND</td>\n",
              "      <td>NaN</td>\n",
              "      <td>NaN</td>\n",
              "      <td>NaN</td>\n",
              "      <td>NaN</td>\n",
              "      <td>NaN</td>\n",
              "    </tr>\n",
              "    <tr>\n",
              "      <th>100</th>\n",
              "      <td>NaN</td>\n",
              "      <td>NaN</td>\n",
              "      <td>NaN</td>\n",
              "      <td>Total Budget BR:</td>\n",
              "      <td>$7,650</td>\n",
              "      <td>NaN</td>\n",
              "      <td>NaN</td>\n",
              "      <td>NaN</td>\n",
              "      <td>NaN</td>\n",
              "      <td>NaN</td>\n",
              "      <td>NaN</td>\n",
              "      <td>NaN</td>\n",
              "      <td>NaN</td>\n",
              "    </tr>\n",
              "  </tbody>\n",
              "</table>\n",
              "</div>"
            ],
            "text/plain": [
              "    FECHA DE PUBLICACIÓN  PLATAFORMA - FACEBOOK  ... NOTES BITLY (LAT) - URL\n",
              "96                    NaN             Facebook   ...   NaN               NaN\n",
              "97                 30 Jul             Facebook   ...   NaN               NaN\n",
              "98                    NaN             Facebook   ...   NaN               NaN\n",
              "99                    NaN                   NaN  ...   NaN               NaN\n",
              "100                   NaN                   NaN  ...   NaN               NaN\n",
              "\n",
              "[5 rows x 13 columns]"
            ]
          },
          "metadata": {
            "tags": []
          },
          "execution_count": 14
        }
      ]
    },
    {
      "cell_type": "code",
      "metadata": {
        "id": "3hY6He27nOks",
        "colab_type": "code",
        "outputId": "8dc06dc7-b402-47f5-eb59-715e9434fa16",
        "colab": {
          "base_uri": "https://localhost:8080/",
          "height": 666
        }
      },
      "source": [
        "def find_string(column_name):\n",
        "  for i in list(matrix2.loc[matrix2[column_name].notna(),column_name].unique()):\n",
        "    if i.startswith('$'):\n",
        "      continue\n",
        "    else:\n",
        "      return(i)\n",
        "\n",
        "remove = (matrix2.loc[matrix2[b_labels[0]]==find_string(b_labels[0]),b_labels[0]].index)\n",
        "last_row = int(matrix2.loc[remove,:].reset_index().iloc[:,0])\n",
        "\n",
        "matrix2 = matrix2.iloc[0:last_row,:]\n",
        "\n",
        "matrix2.tail()"
      ],
      "execution_count": 0,
      "outputs": [
        {
          "output_type": "execute_result",
          "data": {
            "text/html": [
              "<div>\n",
              "<style scoped>\n",
              "    .dataframe tbody tr th:only-of-type {\n",
              "        vertical-align: middle;\n",
              "    }\n",
              "\n",
              "    .dataframe tbody tr th {\n",
              "        vertical-align: top;\n",
              "    }\n",
              "\n",
              "    .dataframe thead th {\n",
              "        text-align: right;\n",
              "    }\n",
              "</style>\n",
              "<table border=\"1\" class=\"dataframe\">\n",
              "  <thead>\n",
              "    <tr style=\"text-align: right;\">\n",
              "      <th></th>\n",
              "      <th>FECHA DE PUBLICACIÓN</th>\n",
              "      <th>PLATAFORMA - FACEBOOK</th>\n",
              "      <th>PLATAFORMA - INSTAGRAM</th>\n",
              "      <th>OBJETIVO</th>\n",
              "      <th>BUDGET - FACEBOOK</th>\n",
              "      <th>BUDGET - INSTAGRAM</th>\n",
              "      <th>BOOST DATE</th>\n",
              "      <th>TÍTULO</th>\n",
              "      <th>TIPO DE CONTENIDO</th>\n",
              "      <th>COPY - FACEBOOK</th>\n",
              "      <th>COPY - INSTAGRAM</th>\n",
              "      <th>NOTES</th>\n",
              "      <th>BITLY (LAT) - URL</th>\n",
              "    </tr>\n",
              "  </thead>\n",
              "  <tbody>\n",
              "    <tr>\n",
              "      <th>19</th>\n",
              "      <td>NaN</td>\n",
              "      <td>Facebook</td>\n",
              "      <td>Instagram</td>\n",
              "      <td>Video Views</td>\n",
              "      <td>$300</td>\n",
              "      <td>NaN</td>\n",
              "      <td>SAME DAY</td>\n",
              "      <td>SAFE</td>\n",
              "      <td>Teaser</td>\n",
              "      <td>Quem ousou trair Jason Statham vai sentir as c...</td>\n",
              "      <td>NaN</td>\n",
              "      <td>NaN</td>\n",
              "      <td>NaN</td>\n",
              "    </tr>\n",
              "    <tr>\n",
              "      <th>20</th>\n",
              "      <td>NaN</td>\n",
              "      <td>Facebook</td>\n",
              "      <td>Instagram</td>\n",
              "      <td>Video Views</td>\n",
              "      <td>$300</td>\n",
              "      <td>$50</td>\n",
              "      <td>SAME DAY</td>\n",
              "      <td>HORRIBLE BOSSES</td>\n",
              "      <td>Promo</td>\n",
              "      <td>Los grandes amigos son capaces hasta de matar ...</td>\n",
              "      <td>Los grandes amigos son capaces hasta de matar ...</td>\n",
              "      <td>NaN</td>\n",
              "      <td>bit.ly/QuieroMataraMiJefeenCinemaxLA</td>\n",
              "    </tr>\n",
              "    <tr>\n",
              "      <th>21</th>\n",
              "      <td>NaN</td>\n",
              "      <td>Facebook</td>\n",
              "      <td>Instagram</td>\n",
              "      <td>Video Views</td>\n",
              "      <td>$300</td>\n",
              "      <td>$50</td>\n",
              "      <td>SAME DAY</td>\n",
              "      <td>SULLY</td>\n",
              "      <td>SULLY (premier)</td>\n",
              "      <td>La historia la cuenta cualquiera, pero la escr...</td>\n",
              "      <td>La historia la cuenta cualquiera, pero la escr...</td>\n",
              "      <td>NaN</td>\n",
              "      <td>bit.ly/SullyenCinemaxLA</td>\n",
              "    </tr>\n",
              "    <tr>\n",
              "      <th>22</th>\n",
              "      <td>NaN</td>\n",
              "      <td>Facebook</td>\n",
              "      <td>Instagram</td>\n",
              "      <td>Video Views</td>\n",
              "      <td>$350</td>\n",
              "      <td>$50</td>\n",
              "      <td>SAME DAY</td>\n",
              "      <td>THE SPACE BETWEEN US</td>\n",
              "      <td>PROMO</td>\n",
              "      <td>Descubre un amor de otro planeta. 🛰\\n\\nEl Espa...</td>\n",
              "      <td>Descubre un amor de otro planeta. 🛰\\n\\nEl Espa...</td>\n",
              "      <td>NaN</td>\n",
              "      <td>bit.ly/ElEspacioEntreNosotrosenCinemaxLA</td>\n",
              "    </tr>\n",
              "    <tr>\n",
              "      <th>23</th>\n",
              "      <td>7 Jul</td>\n",
              "      <td>Facebook</td>\n",
              "      <td>Instagram</td>\n",
              "      <td>Brand Awareness</td>\n",
              "      <td>$250</td>\n",
              "      <td>NaN</td>\n",
              "      <td>SAME DAY</td>\n",
              "      <td>MATRIX</td>\n",
              "      <td>COPA AMÉRICA (video)</td>\n",
              "      <td>Em busca de algo muito mais divertido que fute...</td>\n",
              "      <td>Em busca de algo muito mais divertido que fute...</td>\n",
              "      <td>NaN</td>\n",
              "      <td>NaN</td>\n",
              "    </tr>\n",
              "  </tbody>\n",
              "</table>\n",
              "</div>"
            ],
            "text/plain": [
              "   FECHA DE PUBLICACIÓN   ...                         BITLY (LAT) - URL\n",
              "19                   NaN  ...                                       NaN\n",
              "20                   NaN  ...      bit.ly/QuieroMataraMiJefeenCinemaxLA\n",
              "21                   NaN  ...                   bit.ly/SullyenCinemaxLA\n",
              "22                   NaN  ...  bit.ly/ElEspacioEntreNosotrosenCinemaxLA\n",
              "23                 7 Jul  ...                                       NaN\n",
              "\n",
              "[5 rows x 13 columns]"
            ]
          },
          "metadata": {
            "tags": []
          },
          "execution_count": 15
        }
      ]
    },
    {
      "cell_type": "code",
      "metadata": {
        "id": "pJ-EJ6hcTobN",
        "colab_type": "code",
        "outputId": "f1bcc8a7-0811-4cd3-d997-dfab0f4ba129",
        "colab": {
          "base_uri": "https://localhost:8080/",
          "height": 272
        }
      },
      "source": [
        "print('NAs by Column:','\\n')\n",
        "for i in list(matrix2):\n",
        "  print(i+':'+str(len(matrix2.loc[matrix2[i].isna(),i])))"
      ],
      "execution_count": 0,
      "outputs": [
        {
          "output_type": "stream",
          "text": [
            "NAs by Column: \n",
            "\n",
            "FECHA DE PUBLICACIÓN :17\n",
            "PLATAFORMA - FACEBOOK:1\n",
            "PLATAFORMA - INSTAGRAM:9\n",
            "OBJETIVO:0\n",
            "BUDGET - FACEBOOK:0\n",
            "BUDGET - INSTAGRAM:21\n",
            "BOOST DATE:0\n",
            "TÍTULO :0\n",
            "TIPO DE CONTENIDO:0\n",
            "COPY - FACEBOOK:0\n",
            "COPY - INSTAGRAM:8\n",
            "NOTES:23\n",
            "BITLY (LAT) - URL:11\n"
          ],
          "name": "stdout"
        }
      ]
    },
    {
      "cell_type": "code",
      "metadata": {
        "id": "WT3IoYzVQzAD",
        "colab_type": "code",
        "outputId": "db71204d-90a0-4e7d-86a7-74f237914268",
        "colab": {
          "base_uri": "https://localhost:8080/",
          "height": 666
        }
      },
      "source": [
        "# populate all rows on the date column\n",
        "matrix3 = matrix2.copy()\n",
        "matrix3.iloc[:,0] = replicate_down(list(matrix2.iloc[:,0]))\n",
        "\n",
        "matrix3.tail()"
      ],
      "execution_count": 0,
      "outputs": [
        {
          "output_type": "execute_result",
          "data": {
            "text/html": [
              "<div>\n",
              "<style scoped>\n",
              "    .dataframe tbody tr th:only-of-type {\n",
              "        vertical-align: middle;\n",
              "    }\n",
              "\n",
              "    .dataframe tbody tr th {\n",
              "        vertical-align: top;\n",
              "    }\n",
              "\n",
              "    .dataframe thead th {\n",
              "        text-align: right;\n",
              "    }\n",
              "</style>\n",
              "<table border=\"1\" class=\"dataframe\">\n",
              "  <thead>\n",
              "    <tr style=\"text-align: right;\">\n",
              "      <th></th>\n",
              "      <th>FECHA DE PUBLICACIÓN</th>\n",
              "      <th>PLATAFORMA - FACEBOOK</th>\n",
              "      <th>PLATAFORMA - INSTAGRAM</th>\n",
              "      <th>OBJETIVO</th>\n",
              "      <th>BUDGET - FACEBOOK</th>\n",
              "      <th>BUDGET - INSTAGRAM</th>\n",
              "      <th>BOOST DATE</th>\n",
              "      <th>TÍTULO</th>\n",
              "      <th>TIPO DE CONTENIDO</th>\n",
              "      <th>COPY - FACEBOOK</th>\n",
              "      <th>COPY - INSTAGRAM</th>\n",
              "      <th>NOTES</th>\n",
              "      <th>BITLY (LAT) - URL</th>\n",
              "    </tr>\n",
              "  </thead>\n",
              "  <tbody>\n",
              "    <tr>\n",
              "      <th>19</th>\n",
              "      <td>6 Jul</td>\n",
              "      <td>Facebook</td>\n",
              "      <td>Instagram</td>\n",
              "      <td>Video Views</td>\n",
              "      <td>$300</td>\n",
              "      <td>NaN</td>\n",
              "      <td>SAME DAY</td>\n",
              "      <td>SAFE</td>\n",
              "      <td>Teaser</td>\n",
              "      <td>Quem ousou trair Jason Statham vai sentir as c...</td>\n",
              "      <td>NaN</td>\n",
              "      <td>NaN</td>\n",
              "      <td>NaN</td>\n",
              "    </tr>\n",
              "    <tr>\n",
              "      <th>20</th>\n",
              "      <td>6 Jul</td>\n",
              "      <td>Facebook</td>\n",
              "      <td>Instagram</td>\n",
              "      <td>Video Views</td>\n",
              "      <td>$300</td>\n",
              "      <td>$50</td>\n",
              "      <td>SAME DAY</td>\n",
              "      <td>HORRIBLE BOSSES</td>\n",
              "      <td>Promo</td>\n",
              "      <td>Los grandes amigos son capaces hasta de matar ...</td>\n",
              "      <td>Los grandes amigos son capaces hasta de matar ...</td>\n",
              "      <td>NaN</td>\n",
              "      <td>bit.ly/QuieroMataraMiJefeenCinemaxLA</td>\n",
              "    </tr>\n",
              "    <tr>\n",
              "      <th>21</th>\n",
              "      <td>6 Jul</td>\n",
              "      <td>Facebook</td>\n",
              "      <td>Instagram</td>\n",
              "      <td>Video Views</td>\n",
              "      <td>$300</td>\n",
              "      <td>$50</td>\n",
              "      <td>SAME DAY</td>\n",
              "      <td>SULLY</td>\n",
              "      <td>SULLY (premier)</td>\n",
              "      <td>La historia la cuenta cualquiera, pero la escr...</td>\n",
              "      <td>La historia la cuenta cualquiera, pero la escr...</td>\n",
              "      <td>NaN</td>\n",
              "      <td>bit.ly/SullyenCinemaxLA</td>\n",
              "    </tr>\n",
              "    <tr>\n",
              "      <th>22</th>\n",
              "      <td>6 Jul</td>\n",
              "      <td>Facebook</td>\n",
              "      <td>Instagram</td>\n",
              "      <td>Video Views</td>\n",
              "      <td>$350</td>\n",
              "      <td>$50</td>\n",
              "      <td>SAME DAY</td>\n",
              "      <td>THE SPACE BETWEEN US</td>\n",
              "      <td>PROMO</td>\n",
              "      <td>Descubre un amor de otro planeta. 🛰\\n\\nEl Espa...</td>\n",
              "      <td>Descubre un amor de otro planeta. 🛰\\n\\nEl Espa...</td>\n",
              "      <td>NaN</td>\n",
              "      <td>bit.ly/ElEspacioEntreNosotrosenCinemaxLA</td>\n",
              "    </tr>\n",
              "    <tr>\n",
              "      <th>23</th>\n",
              "      <td>7 Jul</td>\n",
              "      <td>Facebook</td>\n",
              "      <td>Instagram</td>\n",
              "      <td>Brand Awareness</td>\n",
              "      <td>$250</td>\n",
              "      <td>NaN</td>\n",
              "      <td>SAME DAY</td>\n",
              "      <td>MATRIX</td>\n",
              "      <td>COPA AMÉRICA (video)</td>\n",
              "      <td>Em busca de algo muito mais divertido que fute...</td>\n",
              "      <td>Em busca de algo muito mais divertido que fute...</td>\n",
              "      <td>NaN</td>\n",
              "      <td>NaN</td>\n",
              "    </tr>\n",
              "  </tbody>\n",
              "</table>\n",
              "</div>"
            ],
            "text/plain": [
              "   FECHA DE PUBLICACIÓN   ...                         BITLY (LAT) - URL\n",
              "19                 6 Jul  ...                                       NaN\n",
              "20                 6 Jul  ...      bit.ly/QuieroMataraMiJefeenCinemaxLA\n",
              "21                 6 Jul  ...                   bit.ly/SullyenCinemaxLA\n",
              "22                 6 Jul  ...  bit.ly/ElEspacioEntreNosotrosenCinemaxLA\n",
              "23                 7 Jul  ...                                       NaN\n",
              "\n",
              "[5 rows x 13 columns]"
            ]
          },
          "metadata": {
            "tags": []
          },
          "execution_count": 17
        }
      ]
    },
    {
      "cell_type": "code",
      "metadata": {
        "id": "Zl3v4X-iBuE_",
        "colab_type": "code",
        "colab": {}
      },
      "source": [
        "df_split = []\n",
        "for i in range(len(platforms)):\n",
        "  df = matrix3.loc[:,g_labels+p_labels[i]]\n",
        "  df.rename(columns=label_dict, inplace=True)\n",
        "  df_split.append(df)"
      ],
      "execution_count": 0,
      "outputs": []
    },
    {
      "cell_type": "code",
      "metadata": {
        "id": "6FqSTOxPLSRs",
        "colab_type": "code",
        "outputId": "d20fbefb-d9e4-4002-8cdb-0325e591b93d",
        "colab": {
          "base_uri": "https://localhost:8080/",
          "height": 255
        }
      },
      "source": [
        "df_split[0].head()"
      ],
      "execution_count": 0,
      "outputs": [
        {
          "output_type": "execute_result",
          "data": {
            "text/html": [
              "<div>\n",
              "<style scoped>\n",
              "    .dataframe tbody tr th:only-of-type {\n",
              "        vertical-align: middle;\n",
              "    }\n",
              "\n",
              "    .dataframe tbody tr th {\n",
              "        vertical-align: top;\n",
              "    }\n",
              "\n",
              "    .dataframe thead th {\n",
              "        text-align: right;\n",
              "    }\n",
              "</style>\n",
              "<table border=\"1\" class=\"dataframe\">\n",
              "  <thead>\n",
              "    <tr style=\"text-align: right;\">\n",
              "      <th></th>\n",
              "      <th>FECHA DE PUBLICACIÓN</th>\n",
              "      <th>OBJETIVO</th>\n",
              "      <th>BOOST DATE</th>\n",
              "      <th>TÍTULO</th>\n",
              "      <th>TIPO DE CONTENIDO</th>\n",
              "      <th>NOTES</th>\n",
              "      <th>PLATAFORMA</th>\n",
              "      <th>BUDGET</th>\n",
              "      <th>COPY</th>\n",
              "    </tr>\n",
              "  </thead>\n",
              "  <tbody>\n",
              "    <tr>\n",
              "      <th>0</th>\n",
              "      <td>1 Jul</td>\n",
              "      <td>Engagement</td>\n",
              "      <td>SAME DAY</td>\n",
              "      <td>LEGO BATMAN</td>\n",
              "      <td>COPA AMÉRICA (gif)</td>\n",
              "      <td>NaN</td>\n",
              "      <td>Facebook</td>\n",
              "      <td>$200</td>\n",
              "      <td>Quando inesperadamente, esta temporada de fute...</td>\n",
              "    </tr>\n",
              "    <tr>\n",
              "      <th>1</th>\n",
              "      <td>1 Jul</td>\n",
              "      <td>Video Views</td>\n",
              "      <td>SAME DAY</td>\n",
              "      <td>MATRIX</td>\n",
              "      <td>Teaser</td>\n",
              "      <td>NaN</td>\n",
              "      <td>NaN</td>\n",
              "      <td>$300</td>\n",
              "      <td>Há vinte anos, descobrimos que toda nossa real...</td>\n",
              "    </tr>\n",
              "    <tr>\n",
              "      <th>2</th>\n",
              "      <td>1 Jul</td>\n",
              "      <td>Engagement</td>\n",
              "      <td>SAME DAY</td>\n",
              "      <td>LEGO BATMAN</td>\n",
              "      <td>COPA AMÉRICA (gif)</td>\n",
              "      <td>NaN</td>\n",
              "      <td>Facebook</td>\n",
              "      <td>$200</td>\n",
              "      <td>Cuando inesperadamente, esta temporada de fútb...</td>\n",
              "    </tr>\n",
              "    <tr>\n",
              "      <th>3</th>\n",
              "      <td>1 Jul</td>\n",
              "      <td>Video Views</td>\n",
              "      <td>SAME DAY</td>\n",
              "      <td>MATRIX</td>\n",
              "      <td>Teaser</td>\n",
              "      <td>NaN</td>\n",
              "      <td>Facebook</td>\n",
              "      <td>$300</td>\n",
              "      <td>Hace 20 años, descubrimos que nuestra realidad...</td>\n",
              "    </tr>\n",
              "    <tr>\n",
              "      <th>4</th>\n",
              "      <td>1 Jul</td>\n",
              "      <td>Video Views</td>\n",
              "      <td>SAME DAY</td>\n",
              "      <td>THE TOWN</td>\n",
              "      <td>Teaser</td>\n",
              "      <td>NaN</td>\n",
              "      <td>Facebook</td>\n",
              "      <td>$300</td>\n",
              "      <td>En este trabajo, el amor puede ser un error mo...</td>\n",
              "    </tr>\n",
              "  </tbody>\n",
              "</table>\n",
              "</div>"
            ],
            "text/plain": [
              "  FECHA DE PUBLICACIÓN   ...                                               COPY\n",
              "0                 1 Jul  ...  Quando inesperadamente, esta temporada de fute...\n",
              "1                 1 Jul  ...  Há vinte anos, descobrimos que toda nossa real...\n",
              "2                 1 Jul  ...  Cuando inesperadamente, esta temporada de fútb...\n",
              "3                 1 Jul  ...  Hace 20 años, descubrimos que nuestra realidad...\n",
              "4                 1 Jul  ...  En este trabajo, el amor puede ser un error mo...\n",
              "\n",
              "[5 rows x 9 columns]"
            ]
          },
          "metadata": {
            "tags": []
          },
          "execution_count": 19
        }
      ]
    },
    {
      "cell_type": "code",
      "metadata": {
        "id": "hOZpYakcDB1I",
        "colab_type": "code",
        "outputId": "101ef629-fc96-496a-b860-5d0bb184d2c2",
        "colab": {
          "base_uri": "https://localhost:8080/",
          "height": 255
        }
      },
      "source": [
        "final_df = pd.concat(df_split)\n",
        "final_df = final_df.loc[final_df['BUDGET'].notna(),:]\n",
        "final_df['PLATAFORMA'] = replicate_down(list(final_df['PLATAFORMA']))\n",
        "\n",
        "final_df = final_df.apply(lambda x: x.str.strip() if x.dtype == \"object\" else x)\n",
        "\n",
        "final_df.head()"
      ],
      "execution_count": 0,
      "outputs": [
        {
          "output_type": "execute_result",
          "data": {
            "text/html": [
              "<div>\n",
              "<style scoped>\n",
              "    .dataframe tbody tr th:only-of-type {\n",
              "        vertical-align: middle;\n",
              "    }\n",
              "\n",
              "    .dataframe tbody tr th {\n",
              "        vertical-align: top;\n",
              "    }\n",
              "\n",
              "    .dataframe thead th {\n",
              "        text-align: right;\n",
              "    }\n",
              "</style>\n",
              "<table border=\"1\" class=\"dataframe\">\n",
              "  <thead>\n",
              "    <tr style=\"text-align: right;\">\n",
              "      <th></th>\n",
              "      <th>FECHA DE PUBLICACIÓN</th>\n",
              "      <th>OBJETIVO</th>\n",
              "      <th>BOOST DATE</th>\n",
              "      <th>TÍTULO</th>\n",
              "      <th>TIPO DE CONTENIDO</th>\n",
              "      <th>NOTES</th>\n",
              "      <th>PLATAFORMA</th>\n",
              "      <th>BUDGET</th>\n",
              "      <th>COPY</th>\n",
              "    </tr>\n",
              "  </thead>\n",
              "  <tbody>\n",
              "    <tr>\n",
              "      <th>0</th>\n",
              "      <td>1 Jul</td>\n",
              "      <td>Engagement</td>\n",
              "      <td>SAME DAY</td>\n",
              "      <td>LEGO BATMAN</td>\n",
              "      <td>COPA AMÉRICA (gif)</td>\n",
              "      <td>NaN</td>\n",
              "      <td>Facebook</td>\n",
              "      <td>$200</td>\n",
              "      <td>Quando inesperadamente, esta temporada de fute...</td>\n",
              "    </tr>\n",
              "    <tr>\n",
              "      <th>1</th>\n",
              "      <td>1 Jul</td>\n",
              "      <td>Video Views</td>\n",
              "      <td>SAME DAY</td>\n",
              "      <td>MATRIX</td>\n",
              "      <td>Teaser</td>\n",
              "      <td>NaN</td>\n",
              "      <td>Facebook</td>\n",
              "      <td>$300</td>\n",
              "      <td>Há vinte anos, descobrimos que toda nossa real...</td>\n",
              "    </tr>\n",
              "    <tr>\n",
              "      <th>2</th>\n",
              "      <td>1 Jul</td>\n",
              "      <td>Engagement</td>\n",
              "      <td>SAME DAY</td>\n",
              "      <td>LEGO BATMAN</td>\n",
              "      <td>COPA AMÉRICA (gif)</td>\n",
              "      <td>NaN</td>\n",
              "      <td>Facebook</td>\n",
              "      <td>$200</td>\n",
              "      <td>Cuando inesperadamente, esta temporada de fútb...</td>\n",
              "    </tr>\n",
              "    <tr>\n",
              "      <th>3</th>\n",
              "      <td>1 Jul</td>\n",
              "      <td>Video Views</td>\n",
              "      <td>SAME DAY</td>\n",
              "      <td>MATRIX</td>\n",
              "      <td>Teaser</td>\n",
              "      <td>NaN</td>\n",
              "      <td>Facebook</td>\n",
              "      <td>$300</td>\n",
              "      <td>Hace 20 años, descubrimos que nuestra realidad...</td>\n",
              "    </tr>\n",
              "    <tr>\n",
              "      <th>4</th>\n",
              "      <td>1 Jul</td>\n",
              "      <td>Video Views</td>\n",
              "      <td>SAME DAY</td>\n",
              "      <td>THE TOWN</td>\n",
              "      <td>Teaser</td>\n",
              "      <td>NaN</td>\n",
              "      <td>Facebook</td>\n",
              "      <td>$300</td>\n",
              "      <td>En este trabajo, el amor puede ser un error mo...</td>\n",
              "    </tr>\n",
              "  </tbody>\n",
              "</table>\n",
              "</div>"
            ],
            "text/plain": [
              "  FECHA DE PUBLICACIÓN   ...                                               COPY\n",
              "0                 1 Jul  ...  Quando inesperadamente, esta temporada de fute...\n",
              "1                 1 Jul  ...  Há vinte anos, descobrimos que toda nossa real...\n",
              "2                 1 Jul  ...  Cuando inesperadamente, esta temporada de fútb...\n",
              "3                 1 Jul  ...  Hace 20 años, descubrimos que nuestra realidad...\n",
              "4                 1 Jul  ...  En este trabajo, el amor puede ser un error mo...\n",
              "\n",
              "[5 rows x 9 columns]"
            ]
          },
          "metadata": {
            "tags": []
          },
          "execution_count": 20
        }
      ]
    },
    {
      "cell_type": "code",
      "metadata": {
        "id": "1IRXh3-3GQb0",
        "colab_type": "code",
        "colab": {}
      },
      "source": [
        "from google.colab import files\n",
        "\n",
        "# e.g. save pandas output as csv\n",
        "final_df.to_csv('SM Matrix.csv', index=False)\n",
        "\n",
        "files.download('SM Matrix.csv')"
      ],
      "execution_count": 0,
      "outputs": []
    }
  ]
}